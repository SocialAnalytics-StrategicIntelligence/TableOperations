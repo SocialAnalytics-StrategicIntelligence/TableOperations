{
 "cells": [
  {
   "cell_type": "markdown",
   "id": "5cd47911",
   "metadata": {},
   "source": [
    "<img src=\"https://i.imgur.com/6U6q5jQ.png\"/>\n",
    "\n",
    "<a target=\"_blank\" href=\"https://colab.research.google.com/github/SocialAnalytics-StrategicIntelligence/TableOperations/blob/main/index.ipynb\">\n",
    "  <img src=\"https://colab.research.google.com/assets/colab-badge.svg\" alt=\"Open In Colab\"/>\n",
    "</a>\n",
    "\n",
    "# Operations on Data Frames\n",
    "\n",
    "\n",
    "Let me get the data on dengue from [Peru](https://www.datosabiertos.gob.pe/dataset/vigilancia-epidemiol%C3%B3gica-de-dengue):"
   ]
  },
  {
   "cell_type": "code",
   "execution_count": null,
   "id": "ee99f082-ff50-43af-817e-f048fc8b792d",
   "metadata": {},
   "outputs": [],
   "source": [
    "import pandas as pd\n",
    "linkData=\"https://github.com/SocialAnalytics-StrategicIntelligence/TableOperations/raw/main/dataFiles/dengue_ok.pkl\"\n",
    "dengue = pd.read_pickle(linkData)\n",
    "dengue.info()"
   ]
  },
  {
   "cell_type": "code",
   "execution_count": null,
   "id": "d3d5928b-82d2-4da4-817f-153a9a470fb5",
   "metadata": {},
   "outputs": [],
   "source": [
    "# some exploration\n",
    "dengue.describe().apply(lambda s: s.apply('{0:.5f}'.format))"
   ]
  },
  {
   "cell_type": "markdown",
   "id": "21051aa5-8d04-4890-9360-09e38a11da4d",
   "metadata": {},
   "source": [
    "Each row is a person:"
   ]
  },
  {
   "cell_type": "code",
   "execution_count": null,
   "id": "adcc0398-09cf-44e2-9005-e55da0fc6794",
   "metadata": {},
   "outputs": [],
   "source": [
    "dengue.head()"
   ]
  },
  {
   "cell_type": "markdown",
   "id": "da3bdf51-95fa-4424-8908-b7aaa20e8c74",
   "metadata": {},
   "source": [
    "If we wanted to count people, creating a column of ones helps:"
   ]
  },
  {
   "cell_type": "code",
   "execution_count": null,
   "id": "5518a9c0-15fd-42cf-b7f9-4d4868d15620",
   "metadata": {},
   "outputs": [],
   "source": [
    "dengue=dengue.assign(case=1)\n",
    "dengue.head()"
   ]
  },
  {
   "cell_type": "markdown",
   "id": "7d4855d7-6d07-40ae-ae58-97427d7351f0",
   "metadata": {},
   "source": [
    "Let's start creating _data from these data_!"
   ]
  },
  {
   "cell_type": "markdown",
   "id": "19f3b0a9-94c9-44d0-b98c-928b152b84d8",
   "metadata": {},
   "source": [
    "# Average Age - by Year and Symptoms"
   ]
  },
  {
   "cell_type": "markdown",
   "id": "5c26f24c-cab2-47d7-b8e6-d1fa364cef78",
   "metadata": {},
   "source": [
    "## Aggregation\n",
    "\n",
    "Having people, we need to count them by some grouping variable, in this case year (_ano_) and dengue status.\n"
   ]
  },
  {
   "cell_type": "code",
   "execution_count": null,
   "id": "f111a781-c540-4d92-9ba3-16cb685779f7",
   "metadata": {},
   "outputs": [],
   "source": [
    "indexList=['ano','enfermedad']\n",
    "aggregator={'edad': ['mean','median'], 'case':['sum']}\n",
    "ByYear_stats=dengue.groupby(indexList,observed=True).agg(aggregator)\n",
    "ByYear_stats.head(20)"
   ]
  },
  {
   "cell_type": "code",
   "execution_count": null,
   "id": "11ccce20-8d18-470d-adf3-9f479c40e3dc",
   "metadata": {},
   "outputs": [],
   "source": [
    "# notice hierarchy: multindex\n",
    "ByYear_stats.columns"
   ]
  },
  {
   "cell_type": "markdown",
   "id": "61e8580c-1896-459f-a701-79cd585617ab",
   "metadata": {},
   "source": [
    "For easier manipualtion outside Python, we could flatten the index hierarchy:"
   ]
  },
  {
   "cell_type": "code",
   "execution_count": null,
   "id": "17e3798a-d592-4078-a366-2615e8931ccc",
   "metadata": {},
   "outputs": [],
   "source": [
    "# ok?\n",
    "[\"_\".join(name) for name in ByYear_stats.columns]"
   ]
  },
  {
   "cell_type": "code",
   "execution_count": null,
   "id": "f4f8192e-c1a2-40c6-b244-0997390cbc87",
   "metadata": {},
   "outputs": [],
   "source": [
    "# changing\n",
    "ByYear_stats.columns=[\"_\".join(name) for name in ByYear_stats.columns]\n",
    "ByYear_stats.head(20)"
   ]
  },
  {
   "cell_type": "code",
   "execution_count": null,
   "id": "5b229943-c42c-479c-a48e-92c41abf4e57",
   "metadata": {},
   "outputs": [],
   "source": [
    "# final look:\n",
    "ByYear_stats.reset_index(drop=False,inplace=True)\n",
    "ByYear_stats.head(20)"
   ]
  },
  {
   "cell_type": "markdown",
   "id": "d359854f-37b2-4863-852a-8f62fbefdc96",
   "metadata": {},
   "source": [
    "Notice a particular data type:"
   ]
  },
  {
   "cell_type": "code",
   "execution_count": null,
   "id": "a2712893-838d-427b-afdc-b0514938077d",
   "metadata": {},
   "outputs": [],
   "source": [
    "ByYear_stats.enfermedad.dtype"
   ]
  },
  {
   "cell_type": "markdown",
   "id": "40d475ad-8f46-4cbb-8ef8-e6939716fec5",
   "metadata": {},
   "source": [
    "Saving to CSV will erase that _dtype_ attribute. Then, use pickle file format: "
   ]
  },
  {
   "cell_type": "code",
   "execution_count": null,
   "id": "3b87ab58-9e63-4232-8a01-345f1c5fe433",
   "metadata": {},
   "outputs": [],
   "source": [
    "ByYear_stats.to_pickle('dataFiles/ByYear_stats.pkl') # this can be read in R."
   ]
  },
  {
   "cell_type": "markdown",
   "id": "6f5c7193-82b6-452b-bebf-0c10c7a506e9",
   "metadata": {},
   "source": [
    "## Reshaping\n",
    "\n",
    "Notice the variables are in three columns: **edad_mean** /\t**edad_median** / \t**case_sum**. We could reshape those columns to a long format: "
   ]
  },
  {
   "cell_type": "code",
   "execution_count": null,
   "id": "def49c1a-cc88-4b1f-82aa-edf1b4c51be3",
   "metadata": {},
   "outputs": [],
   "source": [
    "theVarsAsIndex=['ano','enfermedad']\n",
    "\n",
    "# stacking  and resetting index\n",
    "ByYear_LongStats=ByYear_stats.set_index(theVarsAsIndex).stack().reset_index()\n",
    "\n",
    "#result\n",
    "ByYear_LongStats"
   ]
  },
  {
   "cell_type": "code",
   "execution_count": null,
   "id": "9ce01c94-b048-4054-949f-cb5c43b25482",
   "metadata": {},
   "outputs": [],
   "source": [
    "# just renaming\n",
    "ByYear_LongStats.rename(columns={'level_2':'statsName',0:'statsValue'},inplace=True)\n",
    "ByYear_LongStats"
   ]
  },
  {
   "cell_type": "code",
   "execution_count": null,
   "id": "f2f52bfc-1680-4264-a9d9-57a6851f1ea1",
   "metadata": {},
   "outputs": [],
   "source": [
    "# still ordinal?\n",
    "ByYear_LongStats.enfermedad.dtype"
   ]
  },
  {
   "cell_type": "code",
   "execution_count": null,
   "id": "3d9adec7-b1fb-44b9-a551-e3a6dc72cc75",
   "metadata": {},
   "outputs": [],
   "source": [
    "ByYear_LongStats.to_pickle('dataFiles/ByYear_LongStats.pkl')"
   ]
  },
  {
   "cell_type": "markdown",
   "id": "3d207c7f-5907-4779-839e-f0e1d6cb3852",
   "metadata": {},
   "source": [
    "# Dengue by Location (Province)"
   ]
  },
  {
   "cell_type": "markdown",
   "id": "99307ddd-937b-4476-b9d6-4f2a841ddf7e",
   "metadata": {},
   "source": [
    "## Aggregating\n",
    "\n",
    "We can redo the previous process, adding _departamento_ and _province_: "
   ]
  },
  {
   "cell_type": "code",
   "execution_count": null,
   "id": "b3788ea7-ec22-4bf7-a370-61c91de2105a",
   "metadata": {},
   "outputs": [],
   "source": [
    "indexList=['ano','departamento','provincia','enfermedad']\n",
    "aggregator={'case':['sum']}\n",
    "ByYearPlace=dengue.groupby(indexList,observed=True).agg(aggregator)\n",
    "ByYearPlace"
   ]
  },
  {
   "cell_type": "markdown",
   "id": "0f2750ea-40ff-4848-a553-e7ce2ab49196",
   "metadata": {},
   "source": [
    "Before flattening the output data frame in long format, you could create a wide shape:"
   ]
  },
  {
   "cell_type": "markdown",
   "id": "8f5e7617-3346-4a90-baa5-d91af8db68b1",
   "metadata": {},
   "source": [
    "## Long to wide"
   ]
  },
  {
   "cell_type": "code",
   "execution_count": null,
   "id": "a00c56ab-a807-4fd4-a4c0-bd7534555004",
   "metadata": {},
   "outputs": [],
   "source": [
    "#simply\n",
    "ByYearPlace.unstack()"
   ]
  },
  {
   "cell_type": "code",
   "execution_count": null,
   "id": "3436a351-da1d-40fc-8843-c50f28a80ce9",
   "metadata": {},
   "outputs": [],
   "source": [
    "# a more familiar look\n",
    "ByYearPlace_wide=ByYearPlace.unstack().reset_index()\n",
    "ByYearPlace_wide"
   ]
  },
  {
   "cell_type": "code",
   "execution_count": null,
   "id": "12e095f0-15e0-4892-92d3-f86a3a132018",
   "metadata": {},
   "outputs": [],
   "source": [
    "# zero instead of missing\n",
    "ByYearPlace_wide.fillna(0,inplace=True)\n",
    "ByYearPlace_wide"
   ]
  },
  {
   "cell_type": "code",
   "execution_count": null,
   "id": "6a92d9c6-1685-4882-933b-288314d374df",
   "metadata": {},
   "outputs": [],
   "source": [
    "# you expected\n",
    "ByYearPlace_wide.columns"
   ]
  },
  {
   "cell_type": "code",
   "execution_count": null,
   "id": "ff1cea47-465a-48cb-ae7f-ce923fcf97fa",
   "metadata": {},
   "outputs": [],
   "source": [
    "#prepare\n",
    "[\"_\".join(names) if names[1]!='' else names[0] for names in ByYearPlace_wide.columns]"
   ]
  },
  {
   "cell_type": "code",
   "execution_count": null,
   "id": "f6648a05-b736-4fe0-abfa-778578c8d519",
   "metadata": {},
   "outputs": [],
   "source": [
    "# change\n",
    "ByYearPlace_wide.columns=[\"_\".join(names) if names[1]!='' else names[0] for names in ByYearPlace_wide.columns]\n",
    "ByYearPlace_wide"
   ]
  },
  {
   "cell_type": "markdown",
   "id": "35cef283-4ba5-4979-b73a-f35c700104a2",
   "metadata": {},
   "source": [
    "What about finding the _provincia_ most affected in a _departamento_?"
   ]
  },
  {
   "cell_type": "code",
   "execution_count": null,
   "id": "0e40736b-c816-4919-b68c-a8e762f5832c",
   "metadata": {},
   "outputs": [],
   "source": [
    "where = ByYearPlace_wide.groupby(['ano','departamento'])['case_sum_ALARMA'].idxmax()\n",
    "worst_prov_year = ByYearPlace_wide.loc[where].reset_index(drop=True)\n",
    "worst_prov_year"
   ]
  },
  {
   "cell_type": "code",
   "execution_count": null,
   "id": "1962fb0c-6101-4d3a-9a2b-698b51d8a02b",
   "metadata": {},
   "outputs": [],
   "source": [
    "# amount of worst provinces per region\n",
    "len(worst_prov_year.provincia.value_counts())"
   ]
  },
  {
   "cell_type": "code",
   "execution_count": null,
   "id": "39180b0f-0aaf-408e-a556-4b889ac7b784",
   "metadata": {},
   "outputs": [],
   "source": [
    "# amount of worst provinces per region - cleaner\n",
    "len(worst_prov_year[worst_prov_year.case_sum_ALARMA>0].provincia.value_counts())"
   ]
  },
  {
   "cell_type": "markdown",
   "id": "73f3c90c-521b-4c84-8f33-dcd7de9755ca",
   "metadata": {},
   "source": [
    "## Filtering\n",
    "\n",
    "Lets' filter some rows based on what we just computed:"
   ]
  },
  {
   "cell_type": "code",
   "execution_count": null,
   "id": "13e0731c-7824-4419-aa54-0e83385b9e65",
   "metadata": {},
   "outputs": [],
   "source": [
    "worst_ProvYear_alarma=worst_prov_year[worst_prov_year.case_sum_ALARMA>0].loc[:,['departamento','provincia']]\n",
    "worst_ProvYear_alarma.reset_index(drop=True,inplace=True)\n",
    "worst_ProvYear_alarma"
   ]
  },
  {
   "cell_type": "code",
   "execution_count": null,
   "id": "57090955-f085-4b66-b3fa-ac5959ec55b5",
   "metadata": {},
   "outputs": [],
   "source": [
    "# adding a column of ones\n",
    "worst_ProvYear_alarma['case']=1\n",
    "worst_ProvYear_alarma"
   ]
  },
  {
   "cell_type": "markdown",
   "id": "0caac822-ee5a-481f-b512-2d696cd1be9e",
   "metadata": {},
   "source": [
    "## Frequency table\n",
    "\n",
    "With filtered data, let's create a crosstabulation:"
   ]
  },
  {
   "cell_type": "code",
   "execution_count": null,
   "id": "6c54ffff-3f36-4ae8-aae1-65a8428378f3",
   "metadata": {},
   "outputs": [],
   "source": [
    "indexList=['departamento','provincia']\n",
    "aggregator={'case':['sum']}\n",
    "worst_ProvYear_alarma_Frequency=worst_ProvYear_alarma.groupby(indexList,observed=True).agg(aggregator)\n",
    "worst_ProvYear_alarma_Frequency"
   ]
  },
  {
   "cell_type": "code",
   "execution_count": null,
   "id": "5f8e6936-5d66-4204-bf70-364a645bec35",
   "metadata": {},
   "outputs": [],
   "source": [
    "# flattening with counts\n",
    "worst_ProvYear_alarma_Frequency.reset_index()"
   ]
  },
  {
   "cell_type": "code",
   "execution_count": null,
   "id": "f8a3b651-42e5-4015-bca1-28654721c8f5",
   "metadata": {},
   "outputs": [],
   "source": [
    "# final look\n",
    "worst_ProvYear_alarma_Frequency.columns=['case']\n",
    "worst_ProvYear_alarma_Frequency.reset_index(inplace=True)\n",
    "worst_ProvYear_alarma_Frequency"
   ]
  },
  {
   "cell_type": "markdown",
   "id": "b0139143-8ee3-44ca-b14d-697f874d7051",
   "metadata": {},
   "source": [
    "Saving the frequencies in a file:"
   ]
  },
  {
   "cell_type": "code",
   "execution_count": null,
   "id": "b49bd5b9-ca56-4714-9e51-4277773895f9",
   "metadata": {},
   "outputs": [],
   "source": [
    "worst_ProvYear_alarma_Frequency.to_csv('dataFiles/worst_ProvYear_alarma_Frequency.csv',index=False)"
   ]
  },
  {
   "cell_type": "markdown",
   "id": "4c4dbb94-a413-4af4-824b-9ec4777e3e98",
   "metadata": {},
   "source": [
    "# The 'ALARM' symptoms level"
   ]
  },
  {
   "cell_type": "markdown",
   "id": "64e01982-aeac-4f5b-8c13-345b3c1dfee9",
   "metadata": {},
   "source": [
    "## Aggregating\n",
    "\n",
    "Let's check a previous data frame:"
   ]
  },
  {
   "cell_type": "code",
   "execution_count": null,
   "id": "67479e06-e94c-491d-9b7b-3d4b61c39df0",
   "metadata": {},
   "outputs": [],
   "source": [
    "ByYearPlace_wide"
   ]
  },
  {
   "cell_type": "markdown",
   "id": "87f3da50-8440-47d6-8984-cb9342c59a70",
   "metadata": {},
   "source": [
    "This time, I want two variables:"
   ]
  },
  {
   "cell_type": "code",
   "execution_count": null,
   "id": "f4c5b866-40bb-4dbc-9c96-09cef2c5cc63",
   "metadata": {},
   "outputs": [],
   "source": [
    "indexList=['ano','departamento']\n",
    "aggregator={'case_sum_SIN_SEÑALES':['sum'],'case_sum_ALARMA':['sum']}\n",
    "ByYearPlace=ByYearPlace_wide.groupby(indexList,observed=True).agg(aggregator)\n",
    "ByYearPlace.columns=['sum_SIN_SEÑALES','sum_ALARMA']\n",
    "ByYearPlace.reset_index(inplace=True)\n",
    "ByYearPlace"
   ]
  },
  {
   "cell_type": "markdown",
   "id": "3539cca4-f57b-4fbe-a049-f076fd786e11",
   "metadata": {},
   "source": [
    "## Creating information\n",
    "\n",
    "I will create a new variable:"
   ]
  },
  {
   "cell_type": "code",
   "execution_count": null,
   "id": "1fee4448-9968-456b-99f3-929a707ce52b",
   "metadata": {},
   "outputs": [],
   "source": [
    "ByYearPlace['rateAlarma']=(ByYearPlace['sum_ALARMA']/ByYearPlace['sum_SIN_SEÑALES'])\n",
    "ByYearPlace['rateAlarma'].describe()"
   ]
  },
  {
   "cell_type": "markdown",
   "id": "b41d47fc-2240-4ec2-a6f1-720be7c70d9b",
   "metadata": {},
   "source": [
    "We got _inf_ values:"
   ]
  },
  {
   "cell_type": "code",
   "execution_count": null,
   "id": "46dd3c7c-021e-4354-b1b1-76c7cb8908f8",
   "metadata": {},
   "outputs": [],
   "source": [
    "import numpy as np #identify with numpy\n",
    "ByYearPlace[np.isinf(ByYearPlace.rateAlarma)]"
   ]
  },
  {
   "cell_type": "markdown",
   "id": "65fe1736-a8f0-4ee6-bc92-c22b1364a680",
   "metadata": {},
   "source": [
    "We need to make a decision. I did this:"
   ]
  },
  {
   "cell_type": "code",
   "execution_count": null,
   "id": "94834cab-1f03-4de3-aee9-3a3bcb795f10",
   "metadata": {},
   "outputs": [],
   "source": [
    "ByYearPlace.loc[186,'rateAlarma']=1\n",
    "ByYearPlace.drop(columns=['sum_SIN_SEÑALES','sum_ALARMA'],inplace=True)\n",
    "ByYearPlace['rateAlarma'].describe()"
   ]
  },
  {
   "cell_type": "markdown",
   "id": "4d3b4964-b39c-4571-b12f-24a6c319f811",
   "metadata": {},
   "source": [
    "### Discretizing"
   ]
  },
  {
   "cell_type": "markdown",
   "id": "611b7eae-9c64-4b01-b120-09354d24b28f",
   "metadata": {},
   "source": [
    "Sometimes you need a numerical variable as an ordinal variable: "
   ]
  },
  {
   "cell_type": "code",
   "execution_count": null,
   "id": "799fccf3-3f5b-4443-a8b0-80f55bd6b659",
   "metadata": {},
   "outputs": [],
   "source": [
    "edges=[-1, .1, .25, .5,.75,1,2]\n",
    "theLabels=[\"less10%\",\"10-25%\",\"25-50\",\"51-75%\",\"75-100%\",\"above100%\"]\n",
    "ByYearPlace[\"rateAlarma.cut\"]=pd.cut(ByYearPlace['rateAlarma'], include_lowest=True,\n",
    "                                     bins=edges, \n",
    "                                     labels=theLabels,\n",
    "                                     ordered=True)"
   ]
  },
  {
   "cell_type": "code",
   "execution_count": null,
   "id": "8dce6b72-4cf3-4e7d-9b28-279782c5bc6c",
   "metadata": {},
   "outputs": [],
   "source": [
    "# we have\n",
    "ByYearPlace"
   ]
  },
  {
   "cell_type": "markdown",
   "id": "44860c8e-dea9-481d-8dd5-d5cae6e97ccd",
   "metadata": {},
   "source": [
    "We could check the yearly behavior:"
   ]
  },
  {
   "cell_type": "code",
   "execution_count": null,
   "id": "7dff7119-ded8-40ec-b80b-a79135f7300f",
   "metadata": {},
   "outputs": [],
   "source": [
    "ByYearPlace.groupby('ano').describe()"
   ]
  },
  {
   "cell_type": "markdown",
   "id": "b4f230aa-ef49-413b-9846-7cb521e46d47",
   "metadata": {},
   "source": [
    "Let's do some **filtering**:"
   ]
  },
  {
   "cell_type": "code",
   "execution_count": null,
   "id": "2ae63742-cc3c-45f1-83f5-9b8a6a10efad",
   "metadata": {},
   "outputs": [],
   "source": [
    "ByYearPlace=ByYearPlace[ByYearPlace.ano>=2012]\n",
    "ByYearPlace.reset_index(drop=True,inplace=True)\n",
    "ByYearPlace"
   ]
  },
  {
   "cell_type": "code",
   "execution_count": null,
   "id": "51fbfdea-117f-4252-a8e9-bfc554a00393",
   "metadata": {},
   "outputs": [],
   "source": [
    "ByYearPlace.info()"
   ]
  },
  {
   "cell_type": "code",
   "execution_count": null,
   "id": "986ea823-ec28-406f-b7a8-d23a3a65439c",
   "metadata": {},
   "outputs": [],
   "source": [
    "# the category should be exported as pickle\n",
    "\n",
    "ByYearPlace.to_pickle(\"dataFiles/ByYearPlace.pkl\")"
   ]
  }
 ],
 "metadata": {
  "kernelspec": {
   "display_name": "Python 3 (ipykernel)",
   "language": "python",
   "name": "python3"
  },
  "language_info": {
   "codemirror_mode": {
    "name": "ipython",
    "version": 3
   },
   "file_extension": ".py",
   "mimetype": "text/x-python",
   "name": "python",
   "nbconvert_exporter": "python",
   "pygments_lexer": "ipython3",
   "version": "3.11.5"
  }
 },
 "nbformat": 4,
 "nbformat_minor": 5
}
