{
 "cells": [
  {
   "cell_type": "markdown",
   "id": "5cd47911",
   "metadata": {},
   "source": [
    "<img src=\"https://i.imgur.com/6U6q5jQ.png\"/>\n",
    "\n",
    "<a target=\"_blank\" href=\"https://colab.research.google.com/github/SocialAnalytics-StrategicIntelligence/TableOperations/blob/main/index.ipynb\">\n",
    "  <img src=\"https://colab.research.google.com/assets/colab-badge.svg\" alt=\"Open In Colab\"/>\n",
    "</a>\n",
    "\n",
    "# Operations on Data Frames\n",
    "\n",
    "\n",
    "Let me get the data on dengue from [Peru](https://www.datosabiertos.gob.pe/dataset/vigilancia-epidemiol%C3%B3gica-de-dengue):"
   ]
  },
  {
   "cell_type": "code",
   "execution_count": null,
   "id": "ee99f082-ff50-43af-817e-f048fc8b792d",
   "metadata": {},
   "outputs": [],
   "source": [
    "import pandas as pd\n",
    "linkData=\"https://github.com/SocialAnalytics-StrategicIntelligence/TableOperations/raw/main/dengue_ok.pkl\"\n",
    "\n",
    "dengue = pd.read_pickle(linkData)\n",
    "\n",
    "# checking format\n",
    "dengue.info()"
   ]
  },
  {
   "cell_type": "code",
   "execution_count": null,
   "id": "d84bca1e-2c52-4516-84cf-a80ed2b8d436",
   "metadata": {},
   "outputs": [],
   "source": [
    "# Each row is a person:\n",
    "dengue.head()"
   ]
  },
  {
   "cell_type": "code",
   "execution_count": null,
   "id": "d3d5928b-82d2-4da4-817f-153a9a470fb5",
   "metadata": {},
   "outputs": [],
   "source": [
    "# some exploration\n",
    "dengue.describe().apply(lambda s: s.apply('{0:.5f}'.format))"
   ]
  },
  {
   "cell_type": "code",
   "execution_count": null,
   "id": "cfec338e-c798-4ff9-9694-a0aa7b593c14",
   "metadata": {},
   "outputs": [],
   "source": [
    "# exploring\n",
    "dengue.enfermedad.value_counts()"
   ]
  },
  {
   "cell_type": "markdown",
   "id": "5d02981c-6b7f-49fb-8dcd-a99e432c79b2",
   "metadata": {},
   "source": [
    "Better labels:"
   ]
  },
  {
   "cell_type": "code",
   "execution_count": null,
   "id": "3cd6c57c-55b7-4681-8564-fc6c5872fb64",
   "metadata": {},
   "outputs": [],
   "source": [
    "dengue['enfermedad_text']=dengue.enfermedad.astype(str)\n",
    "\n",
    "dengue.replace({'enfermedad_text':{'SIN_SEÑALES':'1_SIN_SEÑALES','ALARMA':'2_ALARMA','GRAVE':'3_GRAVE'}},inplace=True)"
   ]
  },
  {
   "cell_type": "code",
   "execution_count": null,
   "id": "8cb93d01-d5be-4927-b78d-08b5cf5d024d",
   "metadata": {},
   "outputs": [],
   "source": [
    "# exploring\n",
    "dengue.ano.value_counts(sort=False)"
   ]
  },
  {
   "cell_type": "markdown",
   "id": "282d15dd-eb9b-4d74-bdeb-eaa4e8cc8dc0",
   "metadata": {},
   "source": [
    "Discretizing:"
   ]
  },
  {
   "cell_type": "code",
   "execution_count": null,
   "id": "adcc0398-09cf-44e2-9005-e55da0fc6794",
   "metadata": {},
   "outputs": [],
   "source": [
    "binLimits=[0,15,50,110]\n",
    "theLabels=[\"a_menor_a_16\",\"b_entre_16y50\",\"c_mayor_a_50\"]\n",
    "dengue[\"edad_grupos\"]=pd.cut(dengue['edad'], include_lowest=True,\n",
    "                                     bins=binLimits, \n",
    "                                     labels=theLabels,\n",
    "                                     ordered=True)\n",
    "\n",
    "# see\n",
    "\n",
    "dengue.head()"
   ]
  },
  {
   "cell_type": "markdown",
   "id": "7d4855d7-6d07-40ae-ae58-97427d7351f0",
   "metadata": {},
   "source": [
    "The surface:"
   ]
  },
  {
   "cell_type": "code",
   "execution_count": null,
   "id": "65376fa7-ca69-4d18-9685-217b25ebd514",
   "metadata": {},
   "outputs": [],
   "source": [
    "pd.crosstab( dengue.enfermedad_text,dengue.edad_grupos, dropna=False, normalize='columns')"
   ]
  },
  {
   "cell_type": "code",
   "execution_count": null,
   "id": "2c92982c-0a0c-4be7-a4c0-38f91d93310e",
   "metadata": {},
   "outputs": [],
   "source": [
    "pd.crosstab(dengue.enfermedad_text,[dengue.sexo,dengue.edad_grupos], dropna=False, normalize='columns')"
   ]
  },
  {
   "cell_type": "markdown",
   "id": "19f3b0a9-94c9-44d0-b98c-928b152b84d8",
   "metadata": {},
   "source": [
    "# Yearly look"
   ]
  },
  {
   "cell_type": "code",
   "execution_count": null,
   "id": "dbc7afb5-6954-4eb2-8d29-6d77eb92d454",
   "metadata": {},
   "outputs": [],
   "source": [
    "import altair as alt\n",
    "alt.data_transformers.enable(\"vegafusion\")\n"
   ]
  },
  {
   "cell_type": "code",
   "execution_count": null,
   "id": "4643458a-82dc-49a3-8778-5702e3c8b644",
   "metadata": {},
   "outputs": [],
   "source": [
    "alt_dengue=alt.Chart(dengue)\n",
    "\n",
    "enc_dengue=alt_dengue.encode(\n",
    "    x='ano:T',\n",
    "    y='mean(edad):Q',\n",
    "    color='enfermedad_text:N',\n",
    ")\n",
    "\n",
    "enc_dengue.mark_line() + enc_dengue.mark_errorband()"
   ]
  },
  {
   "cell_type": "markdown",
   "id": "e7e80334-9d51-4c52-abe0-545917a0b2a8",
   "metadata": {},
   "source": [
    "More detailed:"
   ]
  },
  {
   "cell_type": "code",
   "execution_count": null,
   "id": "fb70967e-8745-47de-bead-c13e64576eb9",
   "metadata": {},
   "outputs": [],
   "source": [
    "enc_dengue=alt_dengue.encode(\n",
    "    x='ano:T',\n",
    "    y='median(edad):Q',\n",
    "    color='enfermedad_text:N',\n",
    "    tooltip=['median(edad)','ano:T']\n",
    ").interactive()\n",
    "\n",
    "enc_dengue.mark_line().facet(\n",
    "    row='sexo:N',\n",
    "    column='edad_grupos:N'\n",
    ") "
   ]
  },
  {
   "cell_type": "code",
   "execution_count": null,
   "id": "898b28e2-a59b-4878-81c0-9346841e1f7f",
   "metadata": {},
   "outputs": [],
   "source": [
    "enc_dengue=alt_dengue.encode(\n",
    "    x='ano:T',\n",
    "    y=alt.Y('sum(case):Q'),\n",
    "    color='enfermedad_text:N',\n",
    "    tooltip=['sum(case):Q','ano:T']\n",
    ").interactive()\n",
    "enc_dengue.mark_line().facet(\n",
    "    row='sexo:N',\n",
    "    column='edad_grupos:N'\n",
    ")"
   ]
  },
  {
   "cell_type": "markdown",
   "id": "f51c7a64-a158-4d4e-ac17-15cc692879aa",
   "metadata": {},
   "source": [
    "The previous plot may require a logged Y-axis: "
   ]
  },
  {
   "cell_type": "code",
   "execution_count": null,
   "id": "a41fb377-994d-41f6-9831-a12524556f87",
   "metadata": {},
   "outputs": [],
   "source": [
    "enc_dengue=alt_dengue.encode(\n",
    "    x='ano:T',\n",
    "    y=alt.Y('sum(case):Q', scale=alt.Scale(type='log')),\n",
    "    color='enfermedad_text:N',\n",
    "    tooltip=['sum(case):Q','ano:T']\n",
    ").interactive()\n",
    "\n",
    "enc_dengue.mark_line().facet(\n",
    "    row='sexo:N',\n",
    "    column='edad_grupos:N'\n",
    ")"
   ]
  },
  {
   "cell_type": "markdown",
   "id": "45a96aaa-a571-48aa-bb71-c25e4e4c4346",
   "metadata": {},
   "source": [
    "Let's get the same results in tables:"
   ]
  },
  {
   "cell_type": "code",
   "execution_count": null,
   "id": "f111a781-c540-4d92-9ba3-16cb685779f7",
   "metadata": {},
   "outputs": [],
   "source": [
    "indexList=['edad_grupos','ano','sexo','enfermedad_text']\n",
    "aggregator={'edad': ['median']}\n",
    "LevelByYear_medians=dengue.groupby(indexList,observed=True).agg(aggregator)\n",
    "LevelByYear_medians"
   ]
  },
  {
   "cell_type": "code",
   "execution_count": null,
   "id": "8009f016-b303-4302-8d49-3bed42f4815e",
   "metadata": {},
   "outputs": [],
   "source": [
    "LevelByYear_medians.unstack(['sexo','enfermedad_text'])"
   ]
  },
  {
   "cell_type": "markdown",
   "id": "072ca830-32ef-4c4d-a11c-50c468c6c9db",
   "metadata": {},
   "source": [
    "Notice the multi-index:"
   ]
  },
  {
   "cell_type": "code",
   "execution_count": null,
   "id": "54bede70-f629-4155-9b87-005e1e8ec285",
   "metadata": {},
   "outputs": [],
   "source": [
    "LevelByYear_medians.info()"
   ]
  },
  {
   "cell_type": "markdown",
   "id": "4a968fee-5f11-44dc-8be2-79bc56a2071b",
   "metadata": {},
   "source": [
    "These are other possibilities, but not better than the lines:"
   ]
  },
  {
   "cell_type": "code",
   "execution_count": null,
   "id": "64b50820-6930-428a-891e-3f28eef4c2ac",
   "metadata": {},
   "outputs": [],
   "source": [
    "alt_dengue=alt.Chart(dengue)\n",
    "enc_dengue=alt_dengue.encode(\n",
    "    x='ano:T',\n",
    "    y=alt.Y('sum(case):Q', scale=alt.Scale(type='log')),\n",
    "    column='enfermedad_text:N'\n",
    ")\n",
    "enc_dengue.mark_circle() "
   ]
  },
  {
   "cell_type": "code",
   "execution_count": null,
   "id": "fac52385-ce91-4d46-a0f1-914c0721af7b",
   "metadata": {},
   "outputs": [],
   "source": [
    "alt_dengue=alt.Chart(dengue)\n",
    "enc_dengue=alt_dengue.encode(\n",
    "    x='ano:T',\n",
    "    y=alt.Y('sum(case):Q', scale=alt.Scale(type='log')),\n",
    "    column='enfermedad_text:N',\n",
    ")\n",
    "enc_dengue.mark_rule() "
   ]
  },
  {
   "cell_type": "code",
   "execution_count": null,
   "id": "7e15e6c8-a00c-4c49-859f-f46212301db4",
   "metadata": {},
   "outputs": [],
   "source": [
    "alt_dengue=alt.Chart(dengue)\n",
    "enc_dengue=alt_dengue.encode(\n",
    "    x='ano:T',\n",
    "    y=alt.Y('sum(case):Q', scale=alt.Scale(type='log')),\n",
    "    column='enfermedad_text:N',\n",
    ")\n",
    "enc_dengue.mark_bar() "
   ]
  },
  {
   "cell_type": "markdown",
   "id": "c2a34e35-5df0-4e63-9ceb-178f4e3301b9",
   "metadata": {},
   "source": [
    "Let's do some aggregation:"
   ]
  },
  {
   "cell_type": "code",
   "execution_count": null,
   "id": "651d3e66-23df-4bd2-8684-d2d0b36e4b86",
   "metadata": {},
   "outputs": [],
   "source": [
    "indexList=['edad_grupos','ano','sexo','enfermedad_text']\n",
    "aggregator={'edad': ['median','mean','min','max']}\n",
    "LevelByYear_statsFull=dengue.groupby(indexList,observed=True).agg(aggregator)\n",
    "LevelByYear_statsFull"
   ]
  },
  {
   "cell_type": "markdown",
   "id": "0125c6d4-a7b0-4df3-aadb-49be75798b32",
   "metadata": {},
   "source": [
    "Now, some reshaping:"
   ]
  },
  {
   "cell_type": "code",
   "execution_count": null,
   "id": "1548a3ee-cfde-48eb-8624-d52e99ea27f8",
   "metadata": {},
   "outputs": [],
   "source": [
    "LevelByYear_statsFull.stack(future_stack=True)"
   ]
  },
  {
   "cell_type": "markdown",
   "id": "3d207c7f-5907-4779-839e-f0e1d6cb3852",
   "metadata": {},
   "source": [
    "# Mining location"
   ]
  },
  {
   "cell_type": "markdown",
   "id": "99307ddd-937b-4476-b9d6-4f2a841ddf7e",
   "metadata": {},
   "source": [
    "Let's use _departamento_ and _provincia_: "
   ]
  },
  {
   "cell_type": "code",
   "execution_count": null,
   "id": "b3788ea7-ec22-4bf7-a370-61c91de2105a",
   "metadata": {},
   "outputs": [],
   "source": [
    "indexList=['ano','departamento','provincia','enfermedad_text']\n",
    "aggregator={'case':['sum']}\n",
    "ByYearPlace=dengue.groupby(indexList,observed=True).agg(aggregator)\n",
    "ByYearPlace"
   ]
  },
  {
   "cell_type": "markdown",
   "id": "0f2750ea-40ff-4848-a553-e7ce2ab49196",
   "metadata": {},
   "source": [
    "Create a wide shape:"
   ]
  },
  {
   "cell_type": "code",
   "execution_count": null,
   "id": "a00c56ab-a807-4fd4-a4c0-bd7534555004",
   "metadata": {},
   "outputs": [],
   "source": [
    "#long to wide\n",
    "ByYearPlace.unstack()"
   ]
  },
  {
   "cell_type": "code",
   "execution_count": null,
   "id": "d24a9f10-bd40-477f-8d66-5a55dc40c33d",
   "metadata": {},
   "outputs": [],
   "source": [
    "# no missing values\n",
    "ByYearPlace_wide=ByYearPlace.unstack().fillna(0)\n",
    "ByYearPlace_wide"
   ]
  },
  {
   "cell_type": "markdown",
   "id": "49f7c31d-6dfc-4f26-95a4-366e04011a9e",
   "metadata": {},
   "source": [
    "The idea is get the sgare of people in ALARM status. For that we need this:"
   ]
  },
  {
   "cell_type": "code",
   "execution_count": null,
   "id": "98167f8d-c696-4424-9a4c-03d5d891a809",
   "metadata": {},
   "outputs": [],
   "source": [
    "sumCases=ByYearPlace_wide.sum(axis=1)\n",
    "sumCases"
   ]
  },
  {
   "cell_type": "code",
   "execution_count": null,
   "id": "d562abf5-12ec-4a78-9407-8cbf4e24168f",
   "metadata": {},
   "outputs": [],
   "source": [
    "# here you are:\n",
    "shareAlarma=ByYearPlace_wide.loc[:,('case','sum','2_ALARMA')]/sumCases\n",
    "shareAlarma.name='shareAlarma'\n",
    "shareAlarma"
   ]
  },
  {
   "cell_type": "markdown",
   "id": "d4b3e41a-149c-4004-ae96-9e55692c2be3",
   "metadata": {},
   "source": [
    "No multi index:"
   ]
  },
  {
   "cell_type": "code",
   "execution_count": null,
   "id": "7da590ee-2ff9-44b0-8c1f-acd785aa70de",
   "metadata": {},
   "outputs": [],
   "source": [
    "shareAlarma=shareAlarma.reset_index()\n",
    "shareAlarma"
   ]
  },
  {
   "cell_type": "markdown",
   "id": "195b6174-47ff-4413-bb99-7ece76a161f5",
   "metadata": {},
   "source": [
    "Let's find thwe worst province per Region in a year:"
   ]
  },
  {
   "cell_type": "code",
   "execution_count": null,
   "id": "dbf72d5e-dc25-4ec7-a646-3fdecbdae6dc",
   "metadata": {},
   "outputs": [],
   "source": [
    "where = shareAlarma.groupby(['ano','departamento'])['shareAlarma'].idxmax()\n",
    "worst_prov_year = shareAlarma.loc[where].reset_index(drop=True)\n",
    "worst_prov_year"
   ]
  },
  {
   "cell_type": "code",
   "execution_count": null,
   "id": "dbc67d47-f8d8-4a66-bdeb-0d1ef99aa6d2",
   "metadata": {},
   "outputs": [],
   "source": [
    "worst_prov_year.shareAlarma.describe()"
   ]
  },
  {
   "cell_type": "code",
   "execution_count": null,
   "id": "af028219-8653-4b9b-9671-fbbd76f13d10",
   "metadata": {},
   "outputs": [],
   "source": [
    "# amount of worst provinces per region\n",
    "len(worst_prov_year.provincia.value_counts())"
   ]
  },
  {
   "cell_type": "code",
   "execution_count": null,
   "id": "345aa7cd-6408-471d-8693-7ec293043214",
   "metadata": {},
   "outputs": [],
   "source": [
    "# amount of worst provinces per region - cleaner\n",
    "len(worst_prov_year[worst_prov_year.shareAlarma>0].provincia.value_counts())"
   ]
  },
  {
   "cell_type": "markdown",
   "id": "3c4e70ea-09d3-477b-bc75-ba739fea342a",
   "metadata": {},
   "source": [
    "Some filtering:"
   ]
  },
  {
   "cell_type": "code",
   "execution_count": null,
   "id": "609f21cf-0129-42c4-a6cd-02cb5257b436",
   "metadata": {},
   "outputs": [],
   "source": [
    "worst_ProvYear_alarma=worst_prov_year[worst_prov_year.shareAlarma>0].loc[:,['departamento','provincia']]\n",
    "worst_ProvYear_alarma.reset_index(drop=True,inplace=True)\n",
    "worst_ProvYear_alarma"
   ]
  },
  {
   "cell_type": "code",
   "execution_count": null,
   "id": "1e74bf5c-ceb6-407a-b25e-441f21adbe6b",
   "metadata": {},
   "outputs": [],
   "source": [
    "indexList=['departamento','provincia']\n",
    "aggregator={'provincia':['count']}\n",
    "worst_ProvYear_alarma_Frequency=worst_ProvYear_alarma.groupby(indexList,observed=True).agg(aggregator)\n",
    "worst_ProvYear_alarma_Frequency"
   ]
  },
  {
   "cell_type": "markdown",
   "id": "d21c88b8-9702-4a35-9f59-f5fde6a93157",
   "metadata": {},
   "source": [
    "The count informs how many years a province was the most affected:"
   ]
  },
  {
   "cell_type": "code",
   "execution_count": null,
   "id": "403f2e40-9cad-47a6-aa87-c851d99549d9",
   "metadata": {},
   "outputs": [],
   "source": [
    "worst_ProvYear_alarma_Frequency.describe()"
   ]
  },
  {
   "cell_type": "code",
   "execution_count": null,
   "id": "88b1dfd1-784e-4037-8553-999f45d07b87",
   "metadata": {},
   "outputs": [],
   "source": [
    "# final look\n",
    "worst_ProvYear_alarma_Frequency.columns=['yearsAffected']\n",
    "worst_ProvYear_alarma_Frequency=worst_ProvYear_alarma_Frequency[worst_ProvYear_alarma_Frequency.yearsAffected>2]\n",
    "worst_ProvYear_alarma_Frequency.reset_index(inplace=True)\n",
    "worst_ProvYear_alarma_Frequency"
   ]
  },
  {
   "cell_type": "markdown",
   "id": "98b17208-e936-48db-8536-b6cc196f2ed2",
   "metadata": {},
   "source": [
    "Let's plot:"
   ]
  },
  {
   "cell_type": "code",
   "execution_count": null,
   "id": "9f12bb37-6654-4705-97c4-22680590bd1a",
   "metadata": {},
   "outputs": [],
   "source": [
    "alt_worstProv=alt.Chart(worst_ProvYear_alarma_Frequency)\n",
    "\n",
    "enc_worstProv=alt_worstProv.encode(\n",
    "    y='departamento',\n",
    "    x='provincia',\n",
    "    text='yearsAffected:O',\n",
    "    size='yearsAffected:O'\n",
    ")\n",
    "\n",
    "enc_worstProv.mark_text()"
   ]
  },
  {
   "cell_type": "markdown",
   "id": "627a73c2-cb40-470c-89c9-db6dc8f2e234",
   "metadata": {},
   "source": [
    "Let's try another info:"
   ]
  },
  {
   "cell_type": "code",
   "execution_count": null,
   "id": "d4bd0c1a-f195-49a3-a41a-efdfbd7241ae",
   "metadata": {},
   "outputs": [],
   "source": [
    "indexList=['ano','departamento','enfermedad_text']\n",
    "aggregator={'case':['sum']}\n",
    "ByYearDepa=dengue.groupby(indexList,observed=True).agg(aggregator)\n",
    "ByYearDepa_wide=ByYearDepa.unstack().fillna(0)\n",
    "ByYearDepaAlarm=ByYearDepa_wide.loc[:,('case','sum','2_ALARMA')]/ByYearDepa_wide.sum(axis=1)\n",
    "ByYearDepaAlarm.name='alarmShare'\n",
    "\n",
    "ByYearDepaAlarm=ByYearDepaAlarm.reset_index()\n",
    "ByYearDepaAlarm"
   ]
  },
  {
   "cell_type": "code",
   "execution_count": null,
   "id": "c5d6fb25-6433-49a0-b0a1-6174c3063940",
   "metadata": {},
   "outputs": [],
   "source": [
    "ByYearDepaAlarm.describe()"
   ]
  },
  {
   "cell_type": "code",
   "execution_count": null,
   "id": "e41c0fb8-9c69-4dfb-afca-ea3344128fd1",
   "metadata": {},
   "outputs": [],
   "source": [
    "ByYearDepaAlarm_focus=ByYearDepaAlarm[ByYearDepaAlarm.alarmShare>0]"
   ]
  },
  {
   "cell_type": "code",
   "execution_count": null,
   "id": "9095af6f-b60c-495f-a2c0-2e367ee2f82b",
   "metadata": {},
   "outputs": [],
   "source": [
    "ByYearDepaAlarm_focus.describe()"
   ]
  },
  {
   "cell_type": "code",
   "execution_count": null,
   "id": "38a4b83a-47a6-4c04-93f3-408be22722b8",
   "metadata": {},
   "outputs": [],
   "source": [
    "edges=[-1, .10, .25, .5,1]\n",
    "theLabels=[\"a.below10%\",\"b.11-25%\",\"c.26-50%\",\"d.above50%\"]\n",
    "ByYearDepaAlarm_focus.loc[:,\"alarmLevels\"]=pd.cut(ByYearDepaAlarm_focus['alarmShare'],\n",
    "                                            include_lowest=True,\n",
    "                                            bins=edges, \n",
    "                                            labels=theLabels,\n",
    "                                            ordered=True)\n",
    "\n",
    "##\n",
    "ByYearDepaAlarm_focus.head()"
   ]
  },
  {
   "cell_type": "code",
   "execution_count": null,
   "id": "82c692a4-2cef-4b24-8be5-e2258980f98e",
   "metadata": {},
   "outputs": [],
   "source": [
    "alt_WorstDepa=alt.Chart(ByYearDepaAlarm_focus).encode(x='ano:O',\n",
    "                                                      y=alt.Y('departamento:N',\n",
    "                                                              sort=alt.EncodingSortField(field='alarmShare',op='max',order='descending')))\n",
    "enc1_WorstDepa=alt_WorstDepa.encode(\n",
    "    color=alt.Color('alarmLevels:O').scale(scheme=\"lightgreyred\", reverse=False)\n",
    ")\n",
    "\n",
    "enc1_WorstDepa.mark_rect()"
   ]
  },
  {
   "cell_type": "code",
   "execution_count": null,
   "id": "27aa2d61-48c4-4bc0-b897-f481e79a7451",
   "metadata": {},
   "outputs": [],
   "source": [
    "enc2_WorstDepa=alt_WorstDepa.encode(\n",
    "    text=alt.Text('alarmShare:Q', format=\".1f\"),\n",
    "    opacity=alt.condition('datum.alarmShare >= 0.3', alt.value(1), alt.value(0)))\n",
    "enc2_WorstDepa.mark_text(fontStyle='bold')"
   ]
  },
  {
   "cell_type": "code",
   "execution_count": null,
   "id": "430167bc-bd22-4ea7-a65b-5049cb053a09",
   "metadata": {},
   "outputs": [],
   "source": [
    "enc1_WorstDepa.mark_rect() + enc2_WorstDepa.mark_text()"
   ]
  },
  {
   "cell_type": "markdown",
   "id": "8485913f-748d-4438-92e3-edf5cb2925fc",
   "metadata": {},
   "source": [
    "You can find different color schemes [here](https://vega.github.io/vega/docs/schemes/)"
   ]
  }
 ],
 "metadata": {
  "kernelspec": {
   "display_name": "Python 3 (ipykernel)",
   "language": "python",
   "name": "python3"
  },
  "language_info": {
   "codemirror_mode": {
    "name": "ipython",
    "version": 3
   },
   "file_extension": ".py",
   "mimetype": "text/x-python",
   "name": "python",
   "nbconvert_exporter": "python",
   "pygments_lexer": "ipython3",
   "version": "3.11.9"
  }
 },
 "nbformat": 4,
 "nbformat_minor": 5
}
