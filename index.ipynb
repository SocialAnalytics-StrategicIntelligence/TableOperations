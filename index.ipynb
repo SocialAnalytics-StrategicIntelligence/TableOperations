{
 "cells": [
  {
   "cell_type": "markdown",
   "id": "5cd47911",
   "metadata": {},
   "source": [
    "<img src=\"https://i.imgur.com/6U6q5jQ.png\"/>\n",
    "\n",
    "<a target=\"_blank\" href=\"https://colab.research.google.com/github/SocialAnalytics-StrategicIntelligence/TableOperations/blob/main/index.ipynb\">\n",
    "  <img src=\"https://colab.research.google.com/assets/colab-badge.svg\" alt=\"Open In Colab\"/>\n",
    "</a>\n",
    "\n",
    "# Operations on Data Frames\n",
    "\n",
    "\n",
    "Let me get the data on dengue from [Peru](https://www.datosabiertos.gob.pe/dataset/vigilancia-epidemiol%C3%B3gica-de-dengue):"
   ]
  },
  {
   "cell_type": "code",
   "execution_count": null,
   "id": "ee99f082-ff50-43af-817e-f048fc8b792d",
   "metadata": {},
   "outputs": [],
   "source": [
    "import pandas as pd\n",
    "linkData=\"https://github.com/SocialAnalytics-StrategicIntelligence/TableOperations/raw/main/dataFiles/dengue_ok.pkl\"\n",
    "dengue = pd.read_pickle(linkData)\n",
    "dengue.info()"
   ]
  },
  {
   "cell_type": "code",
   "execution_count": null,
   "id": "d3d5928b-82d2-4da4-817f-153a9a470fb5",
   "metadata": {},
   "outputs": [],
   "source": [
    "# some exploration\n",
    "dengue.describe().apply(lambda s: s.apply('{0:.5f}'.format))"
   ]
  },
  {
   "cell_type": "markdown",
   "id": "21051aa5-8d04-4890-9360-09e38a11da4d",
   "metadata": {},
   "source": [
    "Each row is a person:"
   ]
  },
  {
   "cell_type": "code",
   "execution_count": null,
   "id": "adcc0398-09cf-44e2-9005-e55da0fc6794",
   "metadata": {},
   "outputs": [],
   "source": [
    "dengue.head()"
   ]
  },
  {
   "cell_type": "markdown",
   "id": "da3bdf51-95fa-4424-8908-b7aaa20e8c74",
   "metadata": {},
   "source": [
    "If we wanted to count people, creating a column of ones helps:"
   ]
  },
  {
   "cell_type": "code",
   "execution_count": null,
   "id": "5518a9c0-15fd-42cf-b7f9-4d4868d15620",
   "metadata": {},
   "outputs": [],
   "source": [
    "dengue=dengue.assign(case=1)\n",
    "dengue.head()"
   ]
  },
  {
   "cell_type": "markdown",
   "id": "7d4855d7-6d07-40ae-ae58-97427d7351f0",
   "metadata": {},
   "source": [
    "Let's start creating _data from these data_!"
   ]
  },
  {
   "cell_type": "markdown",
   "id": "19f3b0a9-94c9-44d0-b98c-928b152b84d8",
   "metadata": {},
   "source": [
    "# Dengue by Year"
   ]
  },
  {
   "cell_type": "markdown",
   "id": "5c26f24c-cab2-47d7-b8e6-d1fa364cef78",
   "metadata": {},
   "source": [
    "## Aggregation\n",
    "\n",
    "Having people, we need to count them by some grouping variable, in this case year (_ano_) and dengue status.\n"
   ]
  },
  {
   "cell_type": "code",
   "execution_count": null,
   "id": "f111a781-c540-4d92-9ba3-16cb685779f7",
   "metadata": {},
   "outputs": [],
   "source": [
    "indexList=['ano','enfermedad']\n",
    "aggregator={'edad': ['mean','median'], 'case':['sum']}\n",
    "ByYear_stats=dengue.groupby(indexList,observed=True).agg(aggregator)\n",
    "ByYear_stats.head(20)"
   ]
  },
  {
   "cell_type": "code",
   "execution_count": null,
   "id": "11ccce20-8d18-470d-adf3-9f479c40e3dc",
   "metadata": {},
   "outputs": [],
   "source": [
    "# notice hierarchy: multindex\n",
    "ByYear_stats.columns"
   ]
  },
  {
   "cell_type": "markdown",
   "id": "61e8580c-1896-459f-a701-79cd585617ab",
   "metadata": {},
   "source": [
    "For easier manipualtion outside Python, we could flatten the index hierarchy:"
   ]
  },
  {
   "cell_type": "code",
   "execution_count": null,
   "id": "17e3798a-d592-4078-a366-2615e8931ccc",
   "metadata": {},
   "outputs": [],
   "source": [
    "# ok?\n",
    "[\"_\".join(name) for name in ByYear_stats.columns]"
   ]
  },
  {
   "cell_type": "code",
   "execution_count": null,
   "id": "f4f8192e-c1a2-40c6-b244-0997390cbc87",
   "metadata": {},
   "outputs": [],
   "source": [
    "# changing\n",
    "ByYear_stats.columns=[\"_\".join(name) for name in ByYear_stats.columns]\n",
    "ByYear_stats.head(20)"
   ]
  },
  {
   "cell_type": "code",
   "execution_count": null,
   "id": "5b229943-c42c-479c-a48e-92c41abf4e57",
   "metadata": {},
   "outputs": [],
   "source": [
    "# final look:\n",
    "ByYear_stats.reset_index(drop=False,inplace=True)\n",
    "ByYear_stats.head(20)"
   ]
  },
  {
   "cell_type": "markdown",
   "id": "d359854f-37b2-4863-852a-8f62fbefdc96",
   "metadata": {},
   "source": [
    "Notice a particular data type:"
   ]
  },
  {
   "cell_type": "code",
   "execution_count": null,
   "id": "a2712893-838d-427b-afdc-b0514938077d",
   "metadata": {},
   "outputs": [],
   "source": [
    "ByYear_stats.enfermedad.dtype"
   ]
  },
  {
   "cell_type": "markdown",
   "id": "40d475ad-8f46-4cbb-8ef8-e6939716fec5",
   "metadata": {},
   "source": [
    "Saving to CSV will erase that _dtype_ attribute. Then, use pickle file format: "
   ]
  },
  {
   "cell_type": "code",
   "execution_count": null,
   "id": "3b87ab58-9e63-4232-8a01-345f1c5fe433",
   "metadata": {},
   "outputs": [],
   "source": [
    "ByYear_stats.to_pickle('dataFiles/ByYear_stats.pkl') # this can be read in R."
   ]
  },
  {
   "cell_type": "markdown",
   "id": "6f5c7193-82b6-452b-bebf-0c10c7a506e9",
   "metadata": {},
   "source": [
    "## Reshaping\n",
    "\n",
    "Notice the variables are in three columns: **edad_mean** /\t**edad_median** / \t**case_sum**. We could reshape those columns to a long format: "
   ]
  },
  {
   "cell_type": "code",
   "execution_count": null,
   "id": "def49c1a-cc88-4b1f-82aa-edf1b4c51be3",
   "metadata": {},
   "outputs": [],
   "source": [
    "theVarsAsIndex=['ano','enfermedad']\n",
    "\n",
    "# stacking  and resetting index\n",
    "ByYear_LongStats=ByYear_stats.set_index(theVarsAsIndex).stack().reset_index()\n",
    "\n",
    "#result\n",
    "ByYear_LongStats"
   ]
  },
  {
   "cell_type": "code",
   "execution_count": null,
   "id": "9ce01c94-b048-4054-949f-cb5c43b25482",
   "metadata": {},
   "outputs": [],
   "source": [
    "# just renaming\n",
    "ByYear_LongStats.rename(columns={'level_2':'statsName',0:'statsValue'},inplace=True)\n",
    "ByYear_LongStats"
   ]
  },
  {
   "cell_type": "code",
   "execution_count": null,
   "id": "f2f52bfc-1680-4264-a9d9-57a6851f1ea1",
   "metadata": {},
   "outputs": [],
   "source": [
    "# still ordinal?\n",
    "ByYear_LongStats.enfermedad.dtype"
   ]
  },
  {
   "cell_type": "code",
   "execution_count": null,
   "id": "3d9adec7-b1fb-44b9-a551-e3a6dc72cc75",
   "metadata": {},
   "outputs": [],
   "source": [
    "ByYear_LongStats.to_pickle('dataFiles/ByYear_LongStats.pkl')"
   ]
  },
  {
   "cell_type": "markdown",
   "id": "3d207c7f-5907-4779-839e-f0e1d6cb3852",
   "metadata": {},
   "source": [
    "# Dengue by Location (Region vs Province)"
   ]
  },
  {
   "cell_type": "markdown",
   "id": "99307ddd-937b-4476-b9d6-4f2a841ddf7e",
   "metadata": {},
   "source": [
    "## Aggregating\n",
    "\n",
    "We can redo the previous process, adding _departamento_ and _province_: "
   ]
  },
  {
   "cell_type": "code",
   "execution_count": null,
   "id": "b3788ea7-ec22-4bf7-a370-61c91de2105a",
   "metadata": {},
   "outputs": [],
   "source": [
    "indexList=['ano','departamento','provincia','enfermedad']\n",
    "aggregator={'case':['sum']}\n",
    "ByYearPlace=dengue.groupby(indexList,observed=True).agg(aggregator)\n",
    "ByYearPlace"
   ]
  },
  {
   "cell_type": "markdown",
   "id": "0f2750ea-40ff-4848-a553-e7ce2ab49196",
   "metadata": {},
   "source": [
    "Before flattening the output data frame in long format, you could create a wide shape:"
   ]
  },
  {
   "cell_type": "markdown",
   "id": "8f5e7617-3346-4a90-baa5-d91af8db68b1",
   "metadata": {},
   "source": [
    "## Long to wide"
   ]
  },
  {
   "cell_type": "code",
   "execution_count": null,
   "id": "a00c56ab-a807-4fd4-a4c0-bd7534555004",
   "metadata": {},
   "outputs": [],
   "source": [
    "#simply\n",
    "ByYearPlace.unstack()"
   ]
  },
  {
   "cell_type": "code",
   "execution_count": null,
   "id": "3436a351-da1d-40fc-8843-c50f28a80ce9",
   "metadata": {},
   "outputs": [],
   "source": [
    "# a more familiar look\n",
    "ByYearPlace_wide=ByYearPlace.unstack().reset_index()\n",
    "ByYearPlace_wide"
   ]
  },
  {
   "cell_type": "code",
   "execution_count": null,
   "id": "12e095f0-15e0-4892-92d3-f86a3a132018",
   "metadata": {},
   "outputs": [],
   "source": [
    "# zero instead of missing\n",
    "ByYearPlace_wide.fillna(0,inplace=True)\n",
    "ByYearPlace_wide"
   ]
  },
  {
   "cell_type": "code",
   "execution_count": null,
   "id": "6a92d9c6-1685-4882-933b-288314d374df",
   "metadata": {},
   "outputs": [],
   "source": [
    "# you expected\n",
    "ByYearPlace_wide.columns"
   ]
  },
  {
   "cell_type": "code",
   "execution_count": null,
   "id": "ff1cea47-465a-48cb-ae7f-ce923fcf97fa",
   "metadata": {},
   "outputs": [],
   "source": [
    "#prepare\n",
    "[\"_\".join(names) if names[1]!='' else names[0] for names in ByYearPlace_wide.columns]"
   ]
  },
  {
   "cell_type": "code",
   "execution_count": null,
   "id": "f6648a05-b736-4fe0-abfa-778578c8d519",
   "metadata": {},
   "outputs": [],
   "source": [
    "# change\n",
    "ByYearPlace_wide.columns=[\"_\".join(names) if names[1]!='' else names[0] for names in ByYearPlace_wide.columns]\n",
    "ByYearPlace_wide"
   ]
  },
  {
   "cell_type": "markdown",
   "id": "35cef283-4ba5-4979-b73a-f35c700104a2",
   "metadata": {},
   "source": [
    "What about finding the _provincia_ most affected in a _departamento_?"
   ]
  },
  {
   "cell_type": "code",
   "execution_count": null,
   "id": "0e40736b-c816-4919-b68c-a8e762f5832c",
   "metadata": {},
   "outputs": [],
   "source": [
    "where = ByYearPlace_wide.groupby(['ano','departamento'])['case_sum_ALARMA'].idxmax()\n",
    "worst_prov_year = ByYearPlace_wide.loc[where].reset_index(drop=True)\n",
    "worst_prov_year"
   ]
  },
  {
   "cell_type": "code",
   "execution_count": null,
   "id": "1962fb0c-6101-4d3a-9a2b-698b51d8a02b",
   "metadata": {},
   "outputs": [],
   "source": [
    "# worst provinces\n",
    "len(worst_prov_year.provincia.value_counts())"
   ]
  },
  {
   "cell_type": "code",
   "execution_count": null,
   "id": "39180b0f-0aaf-408e-a556-4b889ac7b784",
   "metadata": {},
   "outputs": [],
   "source": [
    "# worst >0\n",
    "len(worst_prov_year[worst_prov_year.case_sum_ALARMA>0].provincia.value_counts())"
   ]
  },
  {
   "cell_type": "markdown",
   "id": "73f3c90c-521b-4c84-8f33-dcd7de9755ca",
   "metadata": {},
   "source": [
    "## Filtering\n",
    "\n",
    "Lets' filter some rows based on what we just computed:"
   ]
  },
  {
   "cell_type": "code",
   "execution_count": null,
   "id": "13e0731c-7824-4419-aa54-0e83385b9e65",
   "metadata": {},
   "outputs": [],
   "source": [
    "worst_ProvYear_alarma=worst_prov_year[worst_prov_year.case_sum_ALARMA>0].loc[:,['departamento','provincia']]\n",
    "worst_ProvYear_alarma.reset_index(drop=True,inplace=True)\n",
    "worst_ProvYear_alarma"
   ]
  },
  {
   "cell_type": "code",
   "execution_count": null,
   "id": "57090955-f085-4b66-b3fa-ac5959ec55b5",
   "metadata": {},
   "outputs": [],
   "source": [
    "# adding a column of ones\n",
    "worst_ProvYear_alarma['case']=1\n",
    "worst_ProvYear_alarma"
   ]
  },
  {
   "cell_type": "markdown",
   "id": "0caac822-ee5a-481f-b512-2d696cd1be9e",
   "metadata": {},
   "source": [
    "## Frequency table\n",
    "\n",
    "With filtered data, let's create a crosstabulation:"
   ]
  },
  {
   "cell_type": "code",
   "execution_count": null,
   "id": "6c54ffff-3f36-4ae8-aae1-65a8428378f3",
   "metadata": {},
   "outputs": [],
   "source": [
    "indexList=['departamento','provincia']\n",
    "aggregator={'case':['sum']}\n",
    "worst_ProvYear_alarma_Frequency=worst_ProvYear_alarma.groupby(indexList,observed=True).agg(aggregator)\n",
    "worst_ProvYear_alarma_Frequency"
   ]
  },
  {
   "cell_type": "code",
   "execution_count": null,
   "id": "5f8e6936-5d66-4204-bf70-364a645bec35",
   "metadata": {},
   "outputs": [],
   "source": [
    "# we get a long format\n",
    "worst_ProvYear_alarma_Frequency.reset_index()"
   ]
  },
  {
   "cell_type": "code",
   "execution_count": null,
   "id": "f8a3b651-42e5-4015-bca1-28654721c8f5",
   "metadata": {},
   "outputs": [],
   "source": [
    "# final look\n",
    "worst_ProvYear_alarma_Frequency.columns=['case']\n",
    "worst_ProvYear_alarma_Frequency.reset_index(inplace=True)\n",
    "worst_ProvYear_alarma_Frequency"
   ]
  },
  {
   "cell_type": "markdown",
   "id": "b0139143-8ee3-44ca-b14d-697f874d7051",
   "metadata": {},
   "source": [
    "Saving the frequencies in a file:"
   ]
  },
  {
   "cell_type": "code",
   "execution_count": null,
   "id": "b49bd5b9-ca56-4714-9e51-4277773895f9",
   "metadata": {},
   "outputs": [],
   "source": [
    "worst_ProvYear_alarma_Frequency.to_csv('dataFiles/worst_ProvYear_alarma_Frequency.csv',index=False)"
   ]
  },
  {
   "cell_type": "markdown",
   "id": "4c4dbb94-a413-4af4-824b-9ec4777e3e98",
   "metadata": {},
   "source": [
    "# Dengue by Location and Year"
   ]
  },
  {
   "cell_type": "markdown",
   "id": "64e01982-aeac-4f5b-8c13-345b3c1dfee9",
   "metadata": {},
   "source": [
    "## Aggregating\n",
    "\n",
    "Let's check a previous data frame:"
   ]
  },
  {
   "cell_type": "code",
   "execution_count": null,
   "id": "67479e06-e94c-491d-9b7b-3d4b61c39df0",
   "metadata": {},
   "outputs": [],
   "source": [
    "ByYearPlace_wide"
   ]
  },
  {
   "cell_type": "markdown",
   "id": "87f3da50-8440-47d6-8984-cb9342c59a70",
   "metadata": {},
   "source": [
    "This time, I want two variables:"
   ]
  },
  {
   "cell_type": "code",
   "execution_count": null,
   "id": "f4c5b866-40bb-4dbc-9c96-09cef2c5cc63",
   "metadata": {},
   "outputs": [],
   "source": [
    "indexList=['ano','departamento']\n",
    "aggregator={'case_sum_SIN_SEÑALES':['sum'],'case_sum_ALARMA':['sum']}\n",
    "ByYearPlace=ByYearPlace_wide.groupby(indexList,observed=True).agg(aggregator)\n",
    "ByYearPlace.columns=['sum_SIN_SEÑALES','sum_ALARMA']\n",
    "ByYearPlace.reset_index(inplace=True)\n",
    "ByYearPlace"
   ]
  },
  {
   "cell_type": "markdown",
   "id": "3539cca4-f57b-4fbe-a049-f076fd786e11",
   "metadata": {},
   "source": [
    "## Creating information\n",
    "\n",
    "I will create a new variable:"
   ]
  },
  {
   "cell_type": "code",
   "execution_count": null,
   "id": "1fee4448-9968-456b-99f3-929a707ce52b",
   "metadata": {},
   "outputs": [],
   "source": [
    "ByYearPlace['rateAlarma']=(ByYearPlace['sum_ALARMA']/ByYearPlace['sum_SIN_SEÑALES'])\n",
    "ByYearPlace['rateAlarma'].describe()"
   ]
  },
  {
   "cell_type": "markdown",
   "id": "b41d47fc-2240-4ec2-a6f1-720be7c70d9b",
   "metadata": {},
   "source": [
    "We got _inf_ values:"
   ]
  },
  {
   "cell_type": "code",
   "execution_count": null,
   "id": "46dd3c7c-021e-4354-b1b1-76c7cb8908f8",
   "metadata": {},
   "outputs": [],
   "source": [
    "import numpy as np #identify with numpy\n",
    "ByYearPlace[np.isinf(ByYearPlace.rateAlarma)]"
   ]
  },
  {
   "cell_type": "markdown",
   "id": "65fe1736-a8f0-4ee6-bc92-c22b1364a680",
   "metadata": {},
   "source": [
    "We need to make a decision. I did this:"
   ]
  },
  {
   "cell_type": "code",
   "execution_count": null,
   "id": "94834cab-1f03-4de3-aee9-3a3bcb795f10",
   "metadata": {},
   "outputs": [],
   "source": [
    "ByYearPlace.loc[186,'rateAlarma']=1\n",
    "ByYearPlace.drop(columns=['sum_SIN_SEÑALES','sum_ALARMA'],inplace=True)\n",
    "ByYearPlace['rateAlarma'].describe()"
   ]
  },
  {
   "cell_type": "markdown",
   "id": "4d3b4964-b39c-4571-b12f-24a6c319f811",
   "metadata": {},
   "source": [
    "### Discretizing"
   ]
  },
  {
   "cell_type": "markdown",
   "id": "611b7eae-9c64-4b01-b120-09354d24b28f",
   "metadata": {},
   "source": [
    "Sometimes you need a numerical variable as an ordinal variable: "
   ]
  },
  {
   "cell_type": "code",
   "execution_count": null,
   "id": "799fccf3-3f5b-4443-a8b0-80f55bd6b659",
   "metadata": {},
   "outputs": [],
   "source": [
    "edges=[-1, .1, .25, .5,.75,1,2]\n",
    "theLabels=[\"less10%\",\"10-25%\",\"25-50\",\"51-75%\",\"75-100%\",\"above100%\"]\n",
    "ByYearPlace[\"rateAlarma.cut\"]=pd.cut(ByYearPlace['rateAlarma'], include_lowest=True,\n",
    "                                     bins=edges, \n",
    "                                     labels=theLabels,\n",
    "                                     ordered=True)"
   ]
  },
  {
   "cell_type": "code",
   "execution_count": null,
   "id": "8dce6b72-4cf3-4e7d-9b28-279782c5bc6c",
   "metadata": {},
   "outputs": [],
   "source": [
    "# we have\n",
    "ByYearPlace"
   ]
  },
  {
   "cell_type": "markdown",
   "id": "44860c8e-dea9-481d-8dd5-d5cae6e97ccd",
   "metadata": {},
   "source": [
    "We could check the yearly behavior:"
   ]
  },
  {
   "cell_type": "code",
   "execution_count": null,
   "id": "7dff7119-ded8-40ec-b80b-a79135f7300f",
   "metadata": {},
   "outputs": [],
   "source": [
    "ByYearPlace.groupby('ano').describe()"
   ]
  },
  {
   "cell_type": "markdown",
   "id": "b4f230aa-ef49-413b-9846-7cb521e46d47",
   "metadata": {},
   "source": [
    "Let's do some **filtering**:"
   ]
  },
  {
   "cell_type": "code",
   "execution_count": null,
   "id": "2ae63742-cc3c-45f1-83f5-9b8a6a10efad",
   "metadata": {},
   "outputs": [],
   "source": [
    "ByYearPlace=ByYearPlace[ByYearPlace.ano>=2012]\n",
    "ByYearPlace.reset_index(drop=True,inplace=True)\n",
    "ByYearPlace"
   ]
  },
  {
   "cell_type": "code",
   "execution_count": null,
   "id": "51fbfdea-117f-4252-a8e9-bfc554a00393",
   "metadata": {},
   "outputs": [],
   "source": [
    "ByYearPlace.info()"
   ]
  },
  {
   "cell_type": "code",
   "execution_count": null,
   "id": "986ea823-ec28-406f-b7a8-d23a3a65439c",
   "metadata": {},
   "outputs": [],
   "source": [
    "# the categort should be exported as pickle\n",
    "\n",
    "ByYearPlace.to_pickle(\"dataFiles/ByYearPlace.pkl\")"
   ]
  },
  {
   "cell_type": "markdown",
   "id": "08eea3b1-8edb-4c88-ab41-4b37becdf1eb",
   "metadata": {},
   "source": [
    "# World Fragility Data\n",
    "\n",
    "## Concatenating\n",
    "\n",
    "\n",
    "Let's visit this website: https://fundforpeace.org/what-we-do/country-risk-and-fragility-data/\n",
    "\n",
    "There, you will find several excel files with the _Fragile States Index_ per year. Please, create folder **fragility** inside the folder **dataFiles**, where you will download the excel files from 2006 to 2023. "
   ]
  },
  {
   "cell_type": "code",
   "execution_count": null,
   "id": "d3eb0648-2bfc-4975-b641-a3716149cdea",
   "metadata": {},
   "outputs": [],
   "source": [
    "# Import libraries\n",
    "import os\n",
    "import glob\n",
    "import pandas as pd\n",
    "\n",
    "path = os.path.join('dataFiles','fragility','*.xlsx') # xlsx files in the folder\n",
    "excel_files_names = glob.glob(path) #file names using pyhton's glob\n",
    "\n",
    "# see the file names\n",
    "excel_files_names\n"
   ]
  },
  {
   "cell_type": "markdown",
   "id": "726709f3-8273-4c92-8bb2-d7c5f9f79a13",
   "metadata": {},
   "source": [
    "Let´s open each file (make sure you have previously installed **openpyxl**):"
   ]
  },
  {
   "cell_type": "code",
   "execution_count": null,
   "id": "324159ab-2f6a-4487-9e84-f1edb5bd0f36",
   "metadata": {},
   "outputs": [],
   "source": [
    "allDFs=[] # all XLSX will be here!\n",
    "\n",
    "import pandas as pd\n",
    "\n",
    "for fileName in excel_files_names:\n",
    "    currentFile=pd.read_excel(fileName)\n",
    "    allDFs.append(currentFile)"
   ]
  },
  {
   "cell_type": "code",
   "execution_count": null,
   "id": "2ac2c987-678f-4d28-b11d-59be41646690",
   "metadata": {},
   "outputs": [],
   "source": [
    "# amount of rows and columns:\n",
    "for df,year in zip(allDFs,range(2006,2024)):\n",
    "    print(df.shape,year)"
   ]
  },
  {
   "cell_type": "code",
   "execution_count": null,
   "id": "809a6873-1a68-4761-83fb-06b4ad85688a",
   "metadata": {},
   "outputs": [],
   "source": [
    "#dropping one year\n",
    "allDFs_sub=allDFs[1::]"
   ]
  },
  {
   "cell_type": "markdown",
   "id": "3d942296-f5cb-40a2-942a-361bd2bcf13b",
   "metadata": {},
   "source": [
    "Putting all the dataframes column names into a list:"
   ]
  },
  {
   "cell_type": "code",
   "execution_count": null,
   "id": "f80083d1-f7c0-4e0b-8bc2-d0332e2b2f85",
   "metadata": {},
   "outputs": [],
   "source": [
    "allColumnNames=[] # I will write every column \n",
    "for df in allDFs_sub:\n",
    "    allColumnNames.append(set(df.columns))# list of sets!\n",
    "\n",
    "# this is what we have\n",
    "allColumnNames"
   ]
  },
  {
   "cell_type": "code",
   "execution_count": null,
   "id": "2460a7a8-0882-4cc9-84b6-214a29667afe",
   "metadata": {},
   "outputs": [],
   "source": [
    "# common columns\n",
    "commonColumns=set.intersection(*allColumnNames) # expanding list of sets (*)\n",
    "commonColumns"
   ]
  },
  {
   "cell_type": "code",
   "execution_count": null,
   "id": "1ec165b5-0cf9-4e1b-bbbe-a1af056835ea",
   "metadata": {
    "scrolled": true
   },
   "outputs": [],
   "source": [
    "commonColumns.symmetric_difference(set.union(*allColumnNames))"
   ]
  },
  {
   "cell_type": "code",
   "execution_count": null,
   "id": "44ed22ad-78d8-4668-9067-97964fae2e97",
   "metadata": {},
   "outputs": [],
   "source": [
    "allDFs_sameNames=[] # final DataFrame (with all DFs from 2013-2021\n",
    "colnamesSorted=sorted(list(commonColumns)) # columns names sorted - must turn 'set' into 'list'\n",
    "\n",
    "# making list of DFs\n",
    "for df in allDFs_sub:\n",
    "    allDFs_sameNames.append(df.loc[:,colnamesSorted]) \n",
    "\n",
    "# here it is\n",
    "allDFs_sameNames"
   ]
  },
  {
   "cell_type": "code",
   "execution_count": null,
   "id": "3c88da80-12e4-443f-a4a6-1118f0278368",
   "metadata": {},
   "outputs": [],
   "source": [
    "# concatenating\n",
    "allDFsConcat=pd.concat(allDFs_sameNames,ignore_index=True) # appending DFs using 'concat()'\n",
    "\n",
    "#done!... see it:\n",
    "allDFsConcat"
   ]
  },
  {
   "cell_type": "code",
   "execution_count": null,
   "id": "91ae1017-d6cb-41c7-80f9-286fd4141c4a",
   "metadata": {},
   "outputs": [],
   "source": [
    "allDFsConcat.info()"
   ]
  },
  {
   "cell_type": "code",
   "execution_count": null,
   "id": "1a07a2d2-9c4a-413d-9966-a2b60130105b",
   "metadata": {},
   "outputs": [],
   "source": [
    "# value_counts can be used in object type\n",
    "allDFsConcat.Year.value_counts()"
   ]
  },
  {
   "cell_type": "code",
   "execution_count": null,
   "id": "60514254-743b-4b1d-ac99-bc4e97918fc5",
   "metadata": {},
   "outputs": [],
   "source": [
    "# keeping just the year value\n",
    "yearAsNumber=[]\n",
    "for y in allDFsConcat.Year:\n",
    "    try:\n",
    "        yearAsNumber.append(y.year)# the value from a date-time format\n",
    "    except:\n",
    "        yearAsNumber.append(y) # if not a datetime\n",
    "\n",
    "#verifying\n",
    "pd.Series(yearAsNumber).value_counts()"
   ]
  },
  {
   "cell_type": "code",
   "execution_count": null,
   "id": "55d019de-67a4-419c-a174-97be16a05f3e",
   "metadata": {},
   "outputs": [],
   "source": [
    "# overwriting the year column\n",
    "allDFsConcat['Year']=yearAsNumber"
   ]
  },
  {
   "cell_type": "code",
   "execution_count": null,
   "id": "c54d7696-5c2f-4ca6-87bb-47b7c0bbe56c",
   "metadata": {},
   "outputs": [],
   "source": [
    "# current order\n",
    "allDFsConcat.columns.to_list()"
   ]
  },
  {
   "cell_type": "code",
   "execution_count": null,
   "id": "8647e360-150e-4d81-b4fa-4e5783f4552c",
   "metadata": {},
   "outputs": [],
   "source": [
    "# this is a trick: setting columns as index\n",
    "allDFsConcat.set_index(['Country','Year','Total'],inplace=True)\n",
    "allDFsConcat.head()"
   ]
  },
  {
   "cell_type": "markdown",
   "id": "0c74f195-c6a4-4094-81fc-de7d1fb96c0a",
   "metadata": {},
   "source": [
    "Reordering columns:"
   ]
  },
  {
   "cell_type": "code",
   "execution_count": null,
   "id": "aaa53dc3-d18f-446b-a349-4c3bf5626988",
   "metadata": {},
   "outputs": [],
   "source": [
    "# dropping unneeded column\n",
    "allDFsConcat.drop(columns='Rank',inplace=True)"
   ]
  },
  {
   "cell_type": "code",
   "execution_count": null,
   "id": "a42ff611-350a-4eb6-9fa8-cbbe26fcba40",
   "metadata": {},
   "outputs": [],
   "source": [
    "# indexes will be columns\n",
    "allDFsConcat.reset_index(drop=False,inplace=True)\n",
    "\n",
    "# see\n",
    "allDFsConcat.head()"
   ]
  },
  {
   "cell_type": "code",
   "execution_count": null,
   "id": "2948b6a4-995e-4f74-ae7c-d52eff45db9b",
   "metadata": {},
   "outputs": [],
   "source": [
    "# better ?\n",
    "allDFsConcat.columns.to_list()"
   ]
  },
  {
   "cell_type": "code",
   "execution_count": null,
   "id": "d687c1b8-51bf-4bdb-9e51-284041756492",
   "metadata": {},
   "outputs": [],
   "source": [
    "# clean column names\n",
    "allDFsConcat.columns=allDFsConcat.columns.str.replace(':\\s',\"_\",regex=True)\n",
    "allDFsConcat.columns=allDFsConcat.columns.str.replace('\\s',\"\",regex=True)\n",
    "#see\n",
    "allDFsConcat.columns.to_list()"
   ]
  },
  {
   "cell_type": "code",
   "execution_count": null,
   "id": "03c3fdb9-327d-4604-9675-bca476e8f582",
   "metadata": {},
   "outputs": [],
   "source": [
    "# overwriting country\n",
    "allDFsConcat['Country']=allDFsConcat.Country.str.upper()\n",
    "allDFsConcat[\"Country\"]=allDFsConcat.Country.str.strip()"
   ]
  },
  {
   "cell_type": "markdown",
   "id": "9dc2d490-b766-4820-b7f8-ee65b4cda90b",
   "metadata": {},
   "source": [
    "## Reshaping after concatenation\n",
    "\n",
    "We can find some problems that were created during the concatenation:"
   ]
  },
  {
   "cell_type": "code",
   "execution_count": null,
   "id": "202f345c-1ba9-4a07-b0fb-c856266ef6d7",
   "metadata": {},
   "outputs": [],
   "source": [
    "# seeing long shape\n",
    "fragileLong=allDFsConcat.iloc[:,:3]\n",
    "fragileLong"
   ]
  },
  {
   "cell_type": "code",
   "execution_count": null,
   "id": "fe7eeced-01de-4dda-8dca-02d9005e0594",
   "metadata": {},
   "outputs": [],
   "source": [
    "# to wide\n",
    "fragileWide=pd.pivot_table(fragileLong,\n",
    "               values='Total', # values to use\n",
    "               index=['Country'], # unit of analysis\n",
    "               columns=['Year']) # the values for NEW column\n",
    "# see wide\n",
    "fragileWide.head()"
   ]
  },
  {
   "cell_type": "code",
   "execution_count": null,
   "id": "3587da66-6ddb-45c5-ad75-81687e873048",
   "metadata": {},
   "outputs": [],
   "source": [
    "# missing values in long format\n",
    "fragileLong[fragileLong.isna().any(axis=1)]"
   ]
  },
  {
   "cell_type": "code",
   "execution_count": null,
   "id": "34db2d2c-a903-416a-b369-34c178e093f7",
   "metadata": {},
   "outputs": [],
   "source": [
    "# what cells have missing values?\n",
    "fragileWide[fragileWide.isna().any(axis=1)]"
   ]
  },
  {
   "cell_type": "markdown",
   "id": "fb498c63-415e-4fcf-a979-6f11e796ee96",
   "metadata": {},
   "source": [
    "So, we got problems."
   ]
  },
  {
   "cell_type": "code",
   "execution_count": null,
   "id": "7fddd526-a5b7-4f86-9265-23116948bc78",
   "metadata": {},
   "outputs": [],
   "source": [
    "# details\n",
    "fragileWide[fragileWide.isna().any(axis=1)].index"
   ]
  },
  {
   "cell_type": "code",
   "execution_count": null,
   "id": "6818b4c2-6819-4add-b268-149a7a8161d9",
   "metadata": {},
   "outputs": [],
   "source": [
    "# prepare changes as dict:\n",
    "changes={\"CABO VERDE\": \"CAPE VERDE\",\"CÔTE D'IVOIRE\":\"COTE D'IVOIRE\", \n",
    "\"CZECHIA\":\"CZECH REPUBLIC\",\n",
    "\"SWAZILAND\":\"ESWATINI\",\n",
    "\"ISRAEL AND WEST BANK\":\"ISRAEL\",\n",
    "\"KYRGYZSTAN\":\"KYRGYZ REPUBLIC\",\n",
    "\"NORTH MACEDONIA\":\"MACEDONIA\",\n",
    "\"SLOVAKIA\": \"SLOVAK REPUBLIC\"}"
   ]
  },
  {
   "cell_type": "code",
   "execution_count": null,
   "id": "8c2ba00a-e486-4190-b077-3d31cb50ff32",
   "metadata": {},
   "outputs": [],
   "source": [
    "# make changes using 'replace':\n",
    "allDFsConcat.Country.replace(to_replace=changes,inplace=True)\n",
    "# re create:\n",
    "fragileLong=allDFsConcat.iloc[:,:3]"
   ]
  },
  {
   "cell_type": "code",
   "execution_count": null,
   "id": "2dfb3828-958d-464d-a454-6ac39a232f7a",
   "metadata": {},
   "outputs": [],
   "source": [
    "# to wide shape again\n",
    "fragileWide=pd.pivot_table(fragileLong,\n",
    "               values='Total',\n",
    "               index=['Country'],\n",
    "               columns=['Year']).\\\n",
    "            reset_index(drop=False).\\\n",
    "            rename_axis(index=None, columns=None)\n",
    "\n",
    "# verify missing\n",
    "fragileWide[fragileWide.isna().any(axis=1)] # remember you had an extra country"
   ]
  },
  {
   "cell_type": "code",
   "execution_count": null,
   "id": "2b40316e-0828-46db-8ce0-14ddc62a7791",
   "metadata": {},
   "outputs": [],
   "source": [
    "# new subset\n",
    "allDFsConcat=allDFsConcat[allDFsConcat.Year>=2012]"
   ]
  },
  {
   "cell_type": "code",
   "execution_count": null,
   "id": "9b88a696-a25e-45b4-b327-b78b4c264090",
   "metadata": {},
   "outputs": [],
   "source": [
    "allDFsConcat"
   ]
  },
  {
   "cell_type": "code",
   "execution_count": null,
   "id": "d74e65c2-e4da-436f-9819-06327dcdb80b",
   "metadata": {},
   "outputs": [],
   "source": [
    "allDFsConcat.reset_index(drop=True, inplace=True)"
   ]
  },
  {
   "cell_type": "code",
   "execution_count": null,
   "id": "78abb080-184c-44ca-bb61-e296d6cb8f8f",
   "metadata": {},
   "outputs": [],
   "source": [
    "allDFsConcat"
   ]
  },
  {
   "cell_type": "code",
   "execution_count": null,
   "id": "357e2ac5-33af-4040-a5db-0beb89d85183",
   "metadata": {},
   "outputs": [],
   "source": [
    "# saving\n",
    "allDFsConcat.to_csv(os.path.join(\"dataFiles\",\"fragility\",\"fragility2012_2023.csv\"),index=False)"
   ]
  },
  {
   "cell_type": "markdown",
   "id": "0fd51a27-61a0-4ae4-82be-9ed89c0b8380",
   "metadata": {},
   "source": [
    "# Country Codes\n",
    "\n",
    "## Merging"
   ]
  },
  {
   "cell_type": "code",
   "execution_count": null,
   "id": "e7e60998-ee64-4717-8596-5c52fa471587",
   "metadata": {},
   "outputs": [],
   "source": [
    "# make sure to install 'html5lib', 'beautifulSoup4' and 'lxml'\n",
    "\n",
    "codesLink='https://en.wikipedia.org/wiki/List_of_ISO_3166_country_codes'\n",
    "\n",
    "allTablesWiki=pd.read_html(codesLink, flavor='bs4')"
   ]
  },
  {
   "cell_type": "code",
   "execution_count": null,
   "id": "2b1b49d2-4120-41af-bb38-d5d83a1712bb",
   "metadata": {},
   "outputs": [],
   "source": [
    "\n",
    "allTablesWiki[0]"
   ]
  },
  {
   "cell_type": "code",
   "execution_count": null,
   "id": "12bbf9b3-e1f0-4a56-9ec9-c6c53e03640d",
   "metadata": {},
   "outputs": [],
   "source": [
    "# keep that on\n",
    "countryCodes=allTablesWiki[0].copy()"
   ]
  },
  {
   "cell_type": "code",
   "execution_count": null,
   "id": "390566b4-e65e-4c99-bb66-0ec16c9737c7",
   "metadata": {},
   "outputs": [],
   "source": [
    "# check names\n",
    "countryCodes.columns"
   ]
  },
  {
   "cell_type": "code",
   "execution_count": null,
   "id": "43714502-99b5-49d3-9ac6-bfa1f88b94af",
   "metadata": {},
   "outputs": [],
   "source": [
    "# keeping what is needed\n",
    "countryCodes=countryCodes.iloc[:,[0,3,4]]"
   ]
  },
  {
   "cell_type": "code",
   "execution_count": null,
   "id": "7d125485-9c44-4ac4-9ffa-f94bdf9a772a",
   "metadata": {},
   "outputs": [],
   "source": [
    "countryCodes.columns"
   ]
  },
  {
   "cell_type": "code",
   "execution_count": null,
   "id": "01433423-b2d3-42bd-ac67-b7f4aabdf24e",
   "metadata": {},
   "outputs": [],
   "source": [
    "# brute-force renaming\n",
    "newNames=[\"Country\",\"iso2\",\"iso3\"]\n",
    "countryCodes.columns=newNames\n",
    "countryCodes"
   ]
  },
  {
   "cell_type": "code",
   "execution_count": null,
   "id": "7ee69c4e-c31e-4da3-b18f-40ad92b891d7",
   "metadata": {},
   "outputs": [],
   "source": [
    "# bye symbols\n",
    "countryCodes['Country']=countryCodes['Country'].str.normalize('NFKD').\\\n",
    "                        str.encode('ascii', errors='ignore').str.decode('utf-8').str.upper()"
   ]
  },
  {
   "cell_type": "code",
   "execution_count": null,
   "id": "318b9f76-eef6-46c8-8826-9e065a9d0d64",
   "metadata": {},
   "outputs": [],
   "source": [
    "# check missing\n",
    "countryCodes[countryCodes.isna().any(axis=1)]"
   ]
  },
  {
   "cell_type": "code",
   "execution_count": null,
   "id": "a6533926-84d3-4e68-89a6-965395afca90",
   "metadata": {},
   "outputs": [],
   "source": [
    "# easy fix\n",
    "countryCodes.loc[countryCodes.Country=='NAMIBIA','iso2']=\"NA\"\n",
    "\n",
    "# something missing?\n",
    "countryCodes[countryCodes.isna().any(axis=1)]"
   ]
  },
  {
   "cell_type": "code",
   "execution_count": null,
   "id": "613deb8f-092f-4ab7-ac64-4d239ffd2c04",
   "metadata": {},
   "outputs": [],
   "source": [
    "# are these iso2 valid values?\n",
    "[x for x in countryCodes.iso2 if len(x)>2]"
   ]
  },
  {
   "cell_type": "code",
   "execution_count": null,
   "id": "3046f230-6671-4760-b821-6b906d488579",
   "metadata": {},
   "outputs": [],
   "source": [
    "# wrong rows\n",
    "\n",
    "badValues=[x for x in countryCodes.iso2 if len(x)>2]\n",
    "\n",
    "countryCodes[countryCodes.iso2.isin(badValues)]"
   ]
  },
  {
   "cell_type": "code",
   "execution_count": null,
   "id": "fa0a4da1-ec0e-4a7a-8faa-36bc043e5d83",
   "metadata": {},
   "outputs": [],
   "source": [
    "# dropping wrong rows\n",
    "countryCodes=countryCodes[~countryCodes.iso2.isin(badValues)] # filtering\n",
    "\n",
    "countryCodes.reset_index(drop=True,inplace=True) # needed when rows are dropped"
   ]
  },
  {
   "cell_type": "code",
   "execution_count": null,
   "id": "f96dd2b5-81d2-411d-8d57-2a909cf7a3df",
   "metadata": {},
   "outputs": [],
   "source": [
    "#how many countries?\n",
    "allDFsConcat.Country.unique().shape"
   ]
  },
  {
   "cell_type": "code",
   "execution_count": null,
   "id": "20cdfbbd-c6b7-4069-aa3f-e570719a41f4",
   "metadata": {},
   "outputs": [],
   "source": [
    "#how many countries?\n",
    "countryCodes.Country.shape"
   ]
  },
  {
   "cell_type": "markdown",
   "id": "1ae474be-c651-4733-81dd-1416a508170b",
   "metadata": {},
   "source": [
    "Let's use sets to determine the non coincidences:"
   ]
  },
  {
   "cell_type": "code",
   "execution_count": null,
   "id": "c7f59989-b309-412a-9262-73b04815c6c8",
   "metadata": {},
   "outputs": [],
   "source": [
    "# only in countryCodes.Country NOT in allDFsConcat.Country\n",
    "OnlyInCodes=set(countryCodes.Country)-set(allDFsConcat.Country)\n",
    "OnlyInCodes"
   ]
  },
  {
   "cell_type": "code",
   "execution_count": null,
   "id": "1c200c26-1329-476c-bf6a-f9306a7ef448",
   "metadata": {},
   "outputs": [],
   "source": [
    "# only in allDFsConcat.Country NOT in countryCodes.Country\n",
    "OnlyInConcat=set(allDFsConcat.Country)-set(countryCodes.Country)\n",
    "OnlyInConcat"
   ]
  },
  {
   "cell_type": "markdown",
   "id": "7b7b26e7-9050-49c6-81aa-2c87e625becd",
   "metadata": {},
   "source": [
    "## Fuzzy merging\n",
    "\n",
    "We used the previous information to look for _possible_ matches (please install **thefuzz**):"
   ]
  },
  {
   "cell_type": "code",
   "execution_count": null,
   "id": "c893a676-4d52-4a37-8de0-c9cbbec39652",
   "metadata": {},
   "outputs": [],
   "source": [
    "from thefuzz import process as fz\n",
    "\n",
    "[(f,fz.extractOne(f, OnlyInCodes)) for f in sorted(OnlyInConcat)]"
   ]
  },
  {
   "cell_type": "code",
   "execution_count": null,
   "id": "d1eaac0d-32f6-4fa0-ac08-e60998199582",
   "metadata": {},
   "outputs": [],
   "source": [
    "# this may be clearer:\n",
    "\n",
    "[(f,fz.extractOne(f, OnlyInCodes)) for f in sorted(OnlyInConcat)\n",
    " if fz.extractOne(f, OnlyInCodes)[1]>=90]"
   ]
  },
  {
   "cell_type": "code",
   "execution_count": null,
   "id": "8e072e75-a4dc-435a-a7ba-a56cbb773253",
   "metadata": {},
   "outputs": [],
   "source": [
    "# prepare a dict of changes\n",
    "\n",
    "changesInCodes1={fz.extractOne(f, OnlyInCodes)[0]:f \n",
    "                 for f in sorted(OnlyInConcat)\n",
    "                 if fz.extractOne(f, OnlyInCodes)[1] >=90}\n",
    "#the dict\n",
    "changesInCodes1"
   ]
  },
  {
   "cell_type": "code",
   "execution_count": null,
   "id": "1b9a01d0-b464-47dd-a746-b75792644919",
   "metadata": {},
   "outputs": [],
   "source": [
    "countryCodes.Country.replace(to_replace=changesInCodes1,inplace=True)"
   ]
  },
  {
   "cell_type": "code",
   "execution_count": null,
   "id": "84a37b91-7741-406b-9b07-83e38deee340",
   "metadata": {},
   "outputs": [],
   "source": [
    "# second iteration\n",
    "\n",
    "OnlyInCodes=set(countryCodes.Country)-set(allDFsConcat.Country)\n",
    "OnlyInConcat=set(allDFsConcat.Country)-set(countryCodes.Country)\n",
    "\n",
    "[(f,fz.extractOne(f, OnlyInCodes)) for f in sorted(OnlyInConcat)]"
   ]
  },
  {
   "cell_type": "markdown",
   "id": "8b0b4d57-269c-4a90-9850-d72937088f36",
   "metadata": {},
   "source": [
    "Based on last result, we may need manual changes:"
   ]
  },
  {
   "cell_type": "code",
   "execution_count": null,
   "id": "bdf32c40-b6c0-4ca4-a4a2-cc5413ccd34c",
   "metadata": {},
   "outputs": [],
   "source": [
    "# see the strings in countryCodes:\n",
    "\n",
    "countryCodes[countryCodes.Country.str.contains('LAO|KOREA|CZECH|CONGO',regex=True)]"
   ]
  },
  {
   "cell_type": "code",
   "execution_count": null,
   "id": "8d310ea1-9053-446f-ab44-b55eb614da8a",
   "metadata": {},
   "outputs": [],
   "source": [
    "# second iteration\n",
    "\n",
    "changesInCodes2={\"KOREA (THE DEMOCRATIC PEOPLE'S REPUBLIC OF) [P]\":'NORTH KOREA',\n",
    "                 \"KOREA (THE REPUBLIC OF) [Q]\":\"SOUTH KOREA\",\n",
    "                 \"LAO PEOPLE'S DEMOCRATIC REPUBLIC (THE) [R]\":\"LAOS\",\n",
    "                 \"CZECHIA [J]\":'CZECH REPUBLIC',\n",
    "                 \"CONGO (THE) [H]\":'CONGO REPUBLIC'}\n",
    "countryCodes.Country.replace(to_replace=changesInCodes2,inplace=True)"
   ]
  },
  {
   "cell_type": "markdown",
   "id": "bf80c3ad-de32-4cfb-aa3d-5cafe7699cb8",
   "metadata": {},
   "source": [
    "Those changes now allow for a different result:"
   ]
  },
  {
   "cell_type": "code",
   "execution_count": null,
   "id": "f8e07862-0608-42d2-aee7-3e41e8d70970",
   "metadata": {},
   "outputs": [],
   "source": [
    "OnlyInCodes=set(countryCodes.Country)-set(allDFsConcat.Country)\n",
    "OnlyInConcat=set(allDFsConcat.Country)-set(countryCodes.Country)\n",
    "\n",
    "[(f,fz.extractOne(f, OnlyInCodes)) for f in sorted(OnlyInConcat)]"
   ]
  },
  {
   "cell_type": "code",
   "execution_count": null,
   "id": "d7322e1d-8ecf-497f-b44b-4c897a0796e4",
   "metadata": {},
   "outputs": [],
   "source": [
    "# we got it !\n",
    "changesInCodes3={fz.extractOne(f, OnlyInCodes)[0]:f \n",
    "                 for f in sorted(OnlyInConcat)\n",
    "                 if fz.extractOne(f, OnlyInCodes)[1] >=52}\n",
    "#dict of matches\n",
    "changesInCodes3"
   ]
  },
  {
   "cell_type": "code",
   "execution_count": null,
   "id": "06563b65-8c4c-4bb0-8202-34191e156c76",
   "metadata": {},
   "outputs": [],
   "source": [
    "# make the changes\n",
    "countryCodes.Country.replace(to_replace=changesInCodes3,inplace=True)"
   ]
  },
  {
   "cell_type": "code",
   "execution_count": null,
   "id": "73eae59b-3fe9-4bd7-bd58-9568d6e781b3",
   "metadata": {},
   "outputs": [],
   "source": [
    "# confirming\n",
    "\n",
    "OnlyInConcat=set(allDFsConcat.Country)-set(countryCodes.Country)\n",
    "OnlyInConcat"
   ]
  },
  {
   "cell_type": "markdown",
   "id": "4674094b-3489-4111-8b8a-87a6f5a2e1f2",
   "metadata": {},
   "source": [
    "When we recover the  most matches, we are ready to merge:"
   ]
  },
  {
   "cell_type": "code",
   "execution_count": null,
   "id": "d2f5ba34-c4ad-436b-889d-3aee5464f5d7",
   "metadata": {},
   "outputs": [],
   "source": [
    "fragilityCoded_2012_2023=allDFsConcat.merge(countryCodes,left_on='Country',right_on='Country') #merge on Country\n",
    "fragilityCoded_2012_2023"
   ]
  },
  {
   "cell_type": "code",
   "execution_count": null,
   "id": "19859773-10bb-411c-abec-73fe271521e0",
   "metadata": {},
   "outputs": [],
   "source": [
    "# the NA in NAmibia\n",
    "fragilityCoded_2012_2023.to_pickle(os.path.join(\"dataFiles\",\"fragility\",\"fragilityCoded_2012_2023.pkl\"))"
   ]
  },
  {
   "cell_type": "code",
   "execution_count": null,
   "id": "34b5a6fe-abdd-4e10-8189-fefab3240449",
   "metadata": {},
   "outputs": [],
   "source": []
  }
 ],
 "metadata": {
  "kernelspec": {
   "display_name": "Python 3 (ipykernel)",
   "language": "python",
   "name": "python3"
  },
  "language_info": {
   "codemirror_mode": {
    "name": "ipython",
    "version": 3
   },
   "file_extension": ".py",
   "mimetype": "text/x-python",
   "name": "python",
   "nbconvert_exporter": "python",
   "pygments_lexer": "ipython3",
   "version": "3.11.5"
  }
 },
 "nbformat": 4,
 "nbformat_minor": 5
}
